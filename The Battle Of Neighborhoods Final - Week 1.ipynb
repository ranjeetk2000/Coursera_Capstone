{
    "cells": [
        {
            "cell_type": "markdown",
            "metadata": {},
            "source": "# Final Capstone Project - The Battle of Neighborhoods"
        },
        {
            "cell_type": "markdown",
            "metadata": {},
            "source": "## Table of contents\n* Introduction: Business Problem\n* Data\n* Methodology\n* Results\n* Discussion\n* Conclusion"
        },
        {
            "cell_type": "markdown",
            "metadata": {},
            "source": "### Introduction: Business Problem \n\n#### Area :\nNew Delhi is India's capital and a hub of tourists attracting thousands of tourists every day. New Delhi serves as the seat of all three branches of the Government of India.Population density in New Delhi is about 19,300 Delhiites per square mile (7,400 per square kilometer). It is primarily divided into multiple districts **Central Delhi, East Delhi, New Delhi, North Delhi, North East Delhi, North West Delhi, South Delhi, South West Delhi, West Delhi**.\n\nNew Delhi presents itself as wonderful location for profitable businesses including restaurants.\n\n#### Probelm :\nA Food & Beverage entrepreneur is looking for a suitable location in **Central Delhi** to open a new restaurant to expand their business. Currently company has restaurants opened in other cities of India. Client is particularly interedted to identify a suitable neighborhood in Central Delhi for restaurant business.\n\nWe will focus our analysis on identifying the neighborhoods where business will be good with less competition. Objective is to short list 4-5 such places so that client can decide the best once based on other factors.\n\n#### Target Audience:\nAny business person interested in opening up a restaurant in Central Delhi"
        },
        {
            "cell_type": "markdown",
            "metadata": {},
            "source": "### Data \n\nFirst Dataset: List of neighbourhoods in Central Delhi: The web page http://zip.nowmsg.com contains the postal code of each district and its corresponding location. We used BeautifulSoup to scrap the page and get a table with four cloums: Ward, District, Latitude and Longitude. I will be using web scrapping tool BeautifulSoup for extracting the data in the form of a table from this page - https://zip.nowmsg.com/city.asp?country=IN&state=Delhi&county=Central%20Delhi. Final DataFrame will have columns: County, Place, Latitude, Longitude. \n\nSecond Dataset: List of different venues in the neighbourhoods of Central Delhi:\nThis dataset will be formed using the Foursquare API. I will use the Foursquare location data to explore different venues in each neighbourhood of Central Delhi. Using the Foursquare location data, I can get information about these venues and analyze the neighbourhoods of Central Delhi easily based on this information.\n\nI will use the geographical coordinates from above dataset to generate maps.\n\nI will be using these two datasets to solve the business problem of finding the best place to open a restaurant within Central Delhi, primarily by identifying the neighbourhoods in the Central Delhi, fetching the venues around them, using clustering to cluster these into multiple clusters and finaly identify the cluster with less concentration of restaurants and further cleansing the identified locations to narrow down the target areas."
        }
    ],
    "metadata": {
        "kernelspec": {
            "display_name": "Python 3.6",
            "language": "python",
            "name": "python3"
        },
        "language_info": {
            "codemirror_mode": {
                "name": "ipython",
                "version": 3
            },
            "file_extension": ".py",
            "mimetype": "text/x-python",
            "name": "python",
            "nbconvert_exporter": "python",
            "pygments_lexer": "ipython3",
            "version": "3.6.9"
        }
    },
    "nbformat": 4,
    "nbformat_minor": 1
}